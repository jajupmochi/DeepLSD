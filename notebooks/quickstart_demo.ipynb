{
 "cells": [
  {
   "cell_type": "code",
   "execution_count": 1,
   "metadata": {},
   "outputs": [],
   "source": [
    "import os\n",
    "import numpy as np\n",
    "import cv2\n",
    "import matplotlib\n",
    "import matplotlib.pyplot as plt\n",
    "from matplotlib.colors import LinearSegmentedColormap as lsc\n",
    "import torch\n",
    "import h5py\n",
    "\n",
    "from deeplsd.utils.tensor import batch_to_device\n",
    "from deeplsd.models.deeplsd_inference import DeepLSD\n",
    "from deeplsd.geometry.viz_2d import plot_images, plot_lines"
   ]
  },
  {
   "cell_type": "code",
   "execution_count": 7,
   "metadata": {},
   "outputs": [
    {
     "name": "stdout",
     "output_type": "stream",
     "text": [
      "img size: (823, 1024)\n"
     ]
    }
   ],
   "source": [
    "# Load an image\n",
    "# img_path = '../assets/images/example.jpg'\n",
    "img_path = '../../plan-generation/data/patches-train-test-2025-04-revised/training/385-001_6ms Prinzipschema Heizung V01_h0_w0.png'\n",
    "img = cv2.imread(img_path)[:, :, ::-1]\n",
    "gray_img = cv2.cvtColor(img, cv2.COLOR_RGB2GRAY)\n",
    "print(f'img size: {gray_img.shape}')\n",
    "\n",
    "# Model config\n",
    "device = torch.device('cuda' if torch.cuda.is_available() else 'cpu')\n",
    "conf = {\n",
    "    'detect_lines': True,  # Whether to detect lines or only DF/AF\n",
    "    'line_detection_params': {\n",
    "        'merge': False,  # Whether to merge close-by lines\n",
    "        'filtering': True,  # Whether to filter out lines based on the DF/AF. Use 'strict' to get an even stricter filtering\n",
    "        'grad_thresh': 3,\n",
    "        'grad_nfa': True,  # If True, use the image gradient and the NFA score of LSD to further threshold lines. We recommand using it for easy images, but to turn it off for challenging images (e.g. night, foggy, blurry images)\n",
    "    }\n",
    "}\n",
    "\n",
    "# Load the model\n",
    "ckpt = '../weights/deeplsd_md.tar'\n",
    "ckpt = torch.load(str(ckpt), map_location='cpu', weights_only=False)\n",
    "net = DeepLSD(conf)\n",
    "net.load_state_dict(ckpt['model'])\n",
    "net = net.to(device).eval()"
   ]
  },
  {
   "cell_type": "code",
   "execution_count": null,
   "metadata": {},
   "outputs": [],
   "source": [
    "# Detect (and optionally refine) the lines\n",
    "inputs = {'image': torch.tensor(gray_img, dtype=torch.float, device=device)[None, None] / 255.}\n",
    "with torch.no_grad():\n",
    "    out = net(inputs)\n",
    "    pred_lines = out['lines'][0]\n",
    "\n",
    "# Plot the predictions\n",
    "plot_images([img], ['DeepLSD lines'], cmaps='gray')\n",
    "plot_lines([pred_lines], indices=range(1))"
   ]
  },
  {
   "cell_type": "code",
   "execution_count": null,
   "metadata": {},
   "outputs": [],
   "source": []
  }
 ],
 "metadata": {
  "kernelspec": {
   "display_name": "Python 3 (ipykernel)",
   "language": "python",
   "name": "python3"
  },
  "language_info": {
   "codemirror_mode": {
    "name": "ipython",
    "version": 3
   },
   "file_extension": ".py",
   "mimetype": "text/x-python",
   "name": "python",
   "nbconvert_exporter": "python",
   "pygments_lexer": "ipython3",
   "version": "3.12.3"
  }
 },
 "nbformat": 4,
 "nbformat_minor": 4
}
